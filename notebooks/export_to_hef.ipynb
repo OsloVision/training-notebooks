{
  "nbformat": 4,
  "nbformat_minor": 0,
  "metadata": {
    "colab": {
      "provenance": []
    },
    "kernelspec": {
      "name": "python3",
      "display_name": "Python 3"
    },
    "language_info": {
      "name": "python"
    }
  },
  "cells": [
    {
      "cell_type": "markdown",
      "source": [
        "# Hailo HEF Export (Raspberry PI AI Hat 13 TOPS)\n",
        "\n",
        "This export notebook it to help with converting a yolo pytorch model to .hef format for use on a raspberry pi ai hat 13 tops model.\n",
        "\n",
        "Under the hood this is a hailo-8l architecture.\n",
        "\n",
        "There are 2 examples, one for a yolo object detection model, one for a segmentation model.\n",
        "\n",
        "Machine setup:\n",
        "\n",
        "This notebook has been tested on a 4060 TI 16GB x86 machine with 32 Gb RAM running Ubuntu 22.04\n",
        "\n",
        "This notebook does *NOT* run in google colab free tier, it might work on some of the larger paid hardware options however.\n",
        "\n",
        "Start by copying uploading your pytorch weights from the yolo training process.\n",
        "\n",
        "We will also pull the dataset from oslo.vision and use that for the calibration images. If you are not using oslo just upload a folder of images.\n"
      ],
      "metadata": {
        "id": "MmEoxCIWsnCH"
      }
    },
    {
      "cell_type": "code",
      "source": [
        "!pip3 install -U ultralytics\n",
        "\n",
        "import ultralytics as ul\n",
        "ul.checks()\n",
        "\n",
        "import os\n",
        "\n",
        "HOME = os.getcwd()\n",
        "print(\"HOME:\", HOME)"
      ],
      "metadata": {
        "id": "9vbmqsS1p6Tb"
      },
      "execution_count": null,
      "outputs": []
    },
    {
      "cell_type": "code",
      "execution_count": null,
      "metadata": {
        "id": "3inhZQjcsiAm"
      },
      "outputs": [],
      "source": [
        "# install hailo deps\n",
        "\n",
        "!wget https://s3.amazonaws.com/excitedmedia/hailo_dataflow_compiler-3.32.0-py3-none-linux_x86_64.whl\n",
        "!git clone https://github.com/hailo-ai/hailo_model_zoo.git\n",
        "!sudo apt update && sudo apt install -y graphviz graphviz-dev\n",
        "!python3 -m venv hailo\n",
        "!source hailo/bin/activate\n",
        "!pip install hailo_dataflow_compiler-3.32.0-py3-none-linux_x86_64.whl\n",
        "!cd hailo_model_zoo && git checkout -b update-to-version-332-tag\n",
        "!pip install -e .\n",
        "\n"
      ]
    },
    {
      "cell_type": "code",
      "source": [
        "# pull Dataset from Oslo for use as calibration images in the convertion process.\n",
        "# This assumes that you have your dataset in oslo.vision and have created an export in the correct format.\n",
        "# (YOLO for Object Detection, YOLO-Seg for segmentation)\n",
        "\n",
        "!pip3 install -U oslovision\n",
        "\n",
        "from oslovision import OsloVision\n",
        "\n",
        "project_identifier = \"[inserthere]\"\n",
        "access_token = \"[inserthere]\"\n",
        "dataset_version = \"[inserthere]\"\n",
        "\n",
        "oslo = OsloVision(access_token)\n",
        "\n",
        "# Download dataset\n",
        "dataset_path = oslo.download_export(project_identifier, dataset_version, HOME)\n",
        "\n",
        "print(\"Dataset path:\", dataset_path)"
      ],
      "metadata": {
        "id": "CBe0BmzejAji"
      },
      "execution_count": null,
      "outputs": []
    },
    {
      "cell_type": "code",
      "source": [
        "# export to onnx format\n",
        "\n",
        "!yolo export model={HOME}/best.pt imgsz=640 format=onnx opset=11"
      ],
      "metadata": {
        "id": "Nx_IQklRrXYL"
      },
      "execution_count": null,
      "outputs": []
    },
    {
      "cell_type": "code",
      "source": [
        "# to export a yolov8n object detection model\n",
        "ONNX_MODEL = f\"{HOME}/best.onnx\"\n",
        "CALIBRATION_IMAGES = f\"{dataset_path}/train\"\n",
        "# this num_classes should represent the number of classes in the model\n",
        "NUM_CLASSES = 3\n",
        "\n",
        "!hailomz compile yolov8n --ckpt={ONNX_MODEL} --hw-arch hailo8l --calib-path {CALIBRATION_IMAGES} --classes {NUM_CLASSES}\n",
        "\n"
      ],
      "metadata": {
        "id": "3SZ7uZoQuuys"
      },
      "execution_count": null,
      "outputs": []
    },
    {
      "cell_type": "code",
      "source": [
        "# to export a yolov8s_seg segmentation model\n",
        "\n",
        "ONNX_MODEL = f\"{HOME}/best.onnx\"\n",
        "CALIBRATION_IMAGES = f\"{dataset_path}/train\"\n",
        "NUM_CLASSES = 1\n",
        "\n",
        "!hailomz compile yolov8s_seg --ckpt={ONNX_MODEL} --hw-arch hailo8l --calib-path {CALIBRATION_IMAGES} --classes {NUM_CLASSES} --performance"
      ],
      "metadata": {
        "id": "ZghiXa-extaH"
      },
      "execution_count": null,
      "outputs": []
    },
    {
      "cell_type": "code",
      "source": [],
      "metadata": {
        "id": "zeiSgs8TpORy"
      },
      "execution_count": null,
      "outputs": []
    }
  ]
}